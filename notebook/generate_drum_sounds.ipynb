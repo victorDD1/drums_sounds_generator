{
 "cells": [
  {
   "cell_type": "markdown",
   "metadata": {},
   "source": [
    "## Dataset"
   ]
  },
  {
   "cell_type": "code",
   "execution_count": 1,
   "metadata": {},
   "outputs": [
    {
     "name": "stdout",
     "output_type": "stream",
     "text": [
      "c:\\Users\\victo\\Documents\\Projets IA\\drums_sounds_generator\n"
     ]
    }
   ],
   "source": [
    "import tensorflow as tf\n",
    "import numpy as np\n",
    "import os\n",
    "%cd ..\n",
    "\n",
    "\n",
    "from data.dataset import ini_dataset\n",
    "from loss.loss_functions import generator_loss, discriminator_loss\n",
    "from train.steps import train\n",
    "from model.GAN import get_generator, get_discriminator, GANMonitor, GAN"
   ]
  },
  {
   "cell_type": "code",
   "execution_count": 2,
   "metadata": {},
   "outputs": [
    {
     "name": "stdout",
     "output_type": "stream",
     "text": [
      "Data shape : (9885, 16384, 1)\n"
     ]
    }
   ],
   "source": [
    "data_path = 'D:\\data_drum_sounds'\n",
    "SR = 16000\n",
    "BATCH_SIZE = 32\n",
    "EPOCHS = 20\n",
    "LATENT_DIM = 256\n",
    "LEARNING_RATE = 3e-4\n",
    "\n",
    "data = np.load(\"D:\\data_drum_sounds\\data_kick_hihat_snare_tom_ride_clap_others_16kHz.npz\")['data']\n",
    "SIGNAL_SHAPE = data[0,:,:].shape\n",
    "\n",
    "print('Data shape :', data.shape)\n",
    "#dataset, categories = ini_dataset(\"D:\\data_drum_sounds\\data_kick_16kHz.npz\", BATCH_SIZE)"
   ]
  },
  {
   "cell_type": "code",
   "execution_count": 3,
   "metadata": {},
   "outputs": [
    {
     "name": "stdout",
     "output_type": "stream",
     "text": [
      "generator output shape :  (4, 16384, 1)\n",
      "Model: \"generator\"\n",
      "_________________________________________________________________\n",
      "Layer (type)                 Output Shape              Param #   \n",
      "=================================================================\n",
      "input_1 (InputLayer)         [(None, 256)]             0         \n",
      "_________________________________________________________________\n",
      "dense (Dense)                (None, 2048)              524288    \n",
      "_________________________________________________________________\n",
      "batch_normalization (BatchNo (None, 2048)              8192      \n",
      "_________________________________________________________________\n",
      "leaky_re_lu (LeakyReLU)      (None, 2048)              0         \n",
      "_________________________________________________________________\n",
      "reshape (Reshape)            (None, 8, 256)            0         \n",
      "_________________________________________________________________\n",
      "conv1d_transpose (Conv1DTran (None, 16, 256)           196608    \n",
      "_________________________________________________________________\n",
      "batch_normalization_1 (Batch (None, 16, 256)           1024      \n",
      "_________________________________________________________________\n",
      "leaky_re_lu_1 (LeakyReLU)    (None, 16, 256)           0         \n",
      "_________________________________________________________________\n",
      "conv1d_transpose_1 (Conv1DTr (None, 32, 128)           98304     \n",
      "_________________________________________________________________\n",
      "batch_normalization_2 (Batch (None, 32, 128)           512       \n",
      "_________________________________________________________________\n",
      "leaky_re_lu_2 (LeakyReLU)    (None, 32, 128)           0         \n",
      "_________________________________________________________________\n",
      "conv1d_transpose_2 (Conv1DTr (None, 64, 64)            24576     \n",
      "_________________________________________________________________\n",
      "batch_normalization_3 (Batch (None, 64, 64)            256       \n",
      "_________________________________________________________________\n",
      "leaky_re_lu_3 (LeakyReLU)    (None, 64, 64)            0         \n",
      "_________________________________________________________________\n",
      "conv1d_transpose_3 (Conv1DTr (None, 128, 32)           6144      \n",
      "_________________________________________________________________\n",
      "batch_normalization_4 (Batch (None, 128, 32)           128       \n",
      "_________________________________________________________________\n",
      "leaky_re_lu_4 (LeakyReLU)    (None, 128, 32)           0         \n",
      "_________________________________________________________________\n",
      "conv1d_transpose_4 (Conv1DTr (None, 256, 16)           2560      \n",
      "_________________________________________________________________\n",
      "batch_normalization_5 (Batch (None, 256, 16)           64        \n",
      "_________________________________________________________________\n",
      "leaky_re_lu_5 (LeakyReLU)    (None, 256, 16)           0         \n",
      "_________________________________________________________________\n",
      "conv1d_transpose_5 (Conv1DTr (None, 1024, 8)           640       \n",
      "_________________________________________________________________\n",
      "batch_normalization_6 (Batch (None, 1024, 8)           32        \n",
      "_________________________________________________________________\n",
      "leaky_re_lu_6 (LeakyReLU)    (None, 1024, 8)           0         \n",
      "_________________________________________________________________\n",
      "conv1d_transpose_6 (Conv1DTr (None, 4096, 4)           160       \n",
      "_________________________________________________________________\n",
      "batch_normalization_7 (Batch (None, 4096, 4)           16        \n",
      "_________________________________________________________________\n",
      "leaky_re_lu_7 (LeakyReLU)    (None, 4096, 4)           0         \n",
      "_________________________________________________________________\n",
      "conv1d_transpose_7 (Conv1DTr (None, 16384, 2)          40        \n",
      "_________________________________________________________________\n",
      "batch_normalization_8 (Batch (None, 16384, 2)          8         \n",
      "_________________________________________________________________\n",
      "leaky_re_lu_8 (LeakyReLU)    (None, 16384, 2)          0         \n",
      "_________________________________________________________________\n",
      "conv1d_transpose_8 (Conv1DTr (None, 16384, 1)          11        \n",
      "_________________________________________________________________\n",
      "batch_normalization_9 (Batch (None, 16384, 1)          4         \n",
      "_________________________________________________________________\n",
      "activation (Activation)      (None, 16384, 1)          0         \n",
      "=================================================================\n",
      "Total params: 863,567\n",
      "Trainable params: 858,449\n",
      "Non-trainable params: 5,118\n",
      "_________________________________________________________________\n",
      "None\n"
     ]
    }
   ],
   "source": [
    "generator = get_generator(latent_dim=LATENT_DIM, n_layers=8)\n",
    "noise = np.random.rand(4,256)\n",
    "waveform = generator(noise)\n",
    "\n",
    "print('generator output shape : ', waveform.shape)\n",
    "print(generator.summary())"
   ]
  },
  {
   "cell_type": "code",
   "execution_count": 4,
   "metadata": {},
   "outputs": [
    {
     "name": "stdout",
     "output_type": "stream",
     "text": [
      "disciminator output shape :  (4, 1)\n",
      "Model: \"discriminator\"\n",
      "_________________________________________________________________\n",
      "Layer (type)                 Output Shape              Param #   \n",
      "=================================================================\n",
      "input_2 (InputLayer)         [(None, 16384, 1)]        0         \n",
      "_________________________________________________________________\n",
      "conv1d (Conv1D)              (None, 4096, 1)           9         \n",
      "_________________________________________________________________\n",
      "leaky_re_lu_9 (LeakyReLU)    (None, 4096, 1)           0         \n",
      "_________________________________________________________________\n",
      "conv1d_1 (Conv1D)            (None, 1024, 2)           18        \n",
      "_________________________________________________________________\n",
      "leaky_re_lu_10 (LeakyReLU)   (None, 1024, 2)           0         \n",
      "_________________________________________________________________\n",
      "conv1d_2 (Conv1D)            (None, 256, 4)            68        \n",
      "_________________________________________________________________\n",
      "leaky_re_lu_11 (LeakyReLU)   (None, 256, 4)            0         \n",
      "_________________________________________________________________\n",
      "conv1d_3 (Conv1D)            (None, 64, 8)             264       \n",
      "_________________________________________________________________\n",
      "leaky_re_lu_12 (LeakyReLU)   (None, 64, 8)             0         \n",
      "_________________________________________________________________\n",
      "conv1d_4 (Conv1D)            (None, 16, 16)            1040      \n",
      "_________________________________________________________________\n",
      "leaky_re_lu_13 (LeakyReLU)   (None, 16, 16)            0         \n",
      "_________________________________________________________________\n",
      "conv1d_5 (Conv1D)            (None, 8, 32)             1568      \n",
      "_________________________________________________________________\n",
      "leaky_re_lu_14 (LeakyReLU)   (None, 8, 32)             0         \n",
      "_________________________________________________________________\n",
      "dropout (Dropout)            (None, 8, 32)             0         \n",
      "_________________________________________________________________\n",
      "conv1d_6 (Conv1D)            (None, 4, 64)             6208      \n",
      "_________________________________________________________________\n",
      "leaky_re_lu_15 (LeakyReLU)   (None, 4, 64)             0         \n",
      "_________________________________________________________________\n",
      "dropout_1 (Dropout)          (None, 4, 64)             0         \n",
      "_________________________________________________________________\n",
      "conv1d_7 (Conv1D)            (None, 2, 128)            24704     \n",
      "_________________________________________________________________\n",
      "leaky_re_lu_16 (LeakyReLU)   (None, 2, 128)            0         \n",
      "_________________________________________________________________\n",
      "dropout_2 (Dropout)          (None, 2, 128)            0         \n",
      "_________________________________________________________________\n",
      "conv1d_8 (Conv1D)            (None, 1, 256)            98560     \n",
      "_________________________________________________________________\n",
      "leaky_re_lu_17 (LeakyReLU)   (None, 1, 256)            0         \n",
      "_________________________________________________________________\n",
      "dropout_3 (Dropout)          (None, 1, 256)            0         \n",
      "_________________________________________________________________\n",
      "conv1d_9 (Conv1D)            (None, 1, 512)            393728    \n",
      "_________________________________________________________________\n",
      "leaky_re_lu_18 (LeakyReLU)   (None, 1, 512)            0         \n",
      "_________________________________________________________________\n",
      "dropout_4 (Dropout)          (None, 1, 512)            0         \n",
      "_________________________________________________________________\n",
      "flatten (Flatten)            (None, 512)               0         \n",
      "_________________________________________________________________\n",
      "dropout_5 (Dropout)          (None, 512)               0         \n",
      "_________________________________________________________________\n",
      "dense_1 (Dense)              (None, 1)                 513       \n",
      "=================================================================\n",
      "Total params: 526,680\n",
      "Trainable params: 526,680\n",
      "Non-trainable params: 0\n",
      "_________________________________________________________________\n",
      "None\n"
     ]
    }
   ],
   "source": [
    "discriminator = get_discriminator(SIGNAL_SHAPE, n_layers=10)\n",
    "x = np.random.rand(4,16384,1)\n",
    "pred = discriminator(x)\n",
    "\n",
    "print('disciminator output shape : ', pred.shape)\n",
    "print(discriminator.summary())"
   ]
  },
  {
   "cell_type": "code",
   "execution_count": 5,
   "metadata": {},
   "outputs": [],
   "source": [
    "generator_optimizer = tf.keras.optimizers.Adam(\n",
    "    learning_rate=LEARNING_RATE, beta_1=0.5, beta_2=0.9\n",
    ")\n",
    "discriminator_optimizer = tf.keras.optimizers.Adam(\n",
    "    learning_rate=LEARNING_RATE, beta_1=0.5, beta_2=0.9\n",
    ")\n",
    "\n",
    "def discriminator_loss(real_img, fake_img):\n",
    "    real_loss = tf.reduce_mean(real_img)\n",
    "    fake_loss = tf.reduce_mean(fake_img)\n",
    "    return fake_loss - real_loss\n",
    "\n",
    "def generator_loss(fake_img):\n",
    "    return -tf.reduce_mean(fake_img)\n",
    "\n",
    "callbacks = GANMonitor(num_sounds=2, latent_dim=LATENT_DIM, sr=SR)\n",
    "\n",
    "gan = GAN(\n",
    "    discriminator=discriminator,\n",
    "    generator=generator,\n",
    "    latent_dim=LATENT_DIM,\n",
    "    discriminator_extra_steps=2,\n",
    ")\n",
    "\n",
    "gan.compile(\n",
    "    d_optimizer=discriminator_optimizer,\n",
    "    g_optimizer=generator_optimizer,\n",
    "    g_loss_fn=generator_loss,\n",
    "    d_loss_fn=discriminator_loss,\n",
    ")"
   ]
  },
  {
   "cell_type": "code",
   "execution_count": 6,
   "metadata": {},
   "outputs": [
    {
     "name": "stdout",
     "output_type": "stream",
     "text": [
      "Epoch 1/20\n",
      "309/309 [==============================] - 110s 239ms/step - d_loss: 0.2736 - g_loss: 1.0670\n",
      "Epoch 2/20\n",
      "309/309 [==============================] - 80s 259ms/step - d_loss: 0.2429 - g_loss: 2.6094\n",
      "Epoch 3/20\n",
      " 94/309 [========>.....................] - ETA: 1:04 - d_loss: -0.2569 - g_loss: -1.1946"
     ]
    }
   ],
   "source": [
    "gan.fit(data, batch_size=BATCH_SIZE, epochs=EPOCHS, callbacks=[callbacks])"
   ]
  }
 ],
 "metadata": {
  "interpreter": {
   "hash": "0b660ded8ff8447da09d07df3afd24bbf4f0ee8665280624e7cc86e626af81de"
  },
  "kernelspec": {
   "display_name": "Python 3.9.0 64-bit",
   "name": "python3"
  },
  "language_info": {
   "codemirror_mode": {
    "name": "ipython",
    "version": 3
   },
   "file_extension": ".py",
   "mimetype": "text/x-python",
   "name": "python",
   "nbconvert_exporter": "python",
   "pygments_lexer": "ipython3",
   "version": "3.9.0"
  },
  "orig_nbformat": 4
 },
 "nbformat": 4,
 "nbformat_minor": 2
}
